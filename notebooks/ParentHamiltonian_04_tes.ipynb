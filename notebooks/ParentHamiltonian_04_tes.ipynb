{
 "cells": [
  {
   "cell_type": "markdown",
   "id": "4ba9ab07",
   "metadata": {},
   "source": [
    "# Testing Parent Hamiltonian Library\n",
    "\n",
    "Here we test the parent hamiltonian library with different ansatzes that will not have the simmetry of the orginal japanes github one"
   ]
  },
  {
   "cell_type": "code",
   "execution_count": null,
   "id": "83eef3af",
   "metadata": {},
   "outputs": [],
   "source": [
    "#Python libraries\n",
    "import numpy as np\n",
    "import matplotlib.pyplot as plt"
   ]
  },
  {
   "cell_type": "code",
   "execution_count": null,
   "id": "8d02ad06",
   "metadata": {},
   "outputs": [],
   "source": [
    "import logging\n",
    "logging.basicConfig(\n",
    "    format='%(asctime)s-%(levelname)s: %(message)s',\n",
    "    datefmt='%m/%d/%Y %I:%M:%S %p',\n",
    "    level=logging.INFO\n",
    "    #level=logging.DEBUG\n",
    ")\n",
    "logger = logging.getLogger('__name__')"
   ]
  },
  {
   "cell_type": "code",
   "execution_count": null,
   "id": "8f1cc981",
   "metadata": {},
   "outputs": [],
   "source": [
    "# QLM ansatz\n",
    "import parent_hamiltonian.ansatz.ansatz_qlm as ansatz_qlm\n",
    "# ParentHamiltonian Complete Version\n",
    "import parent_hamiltonian.parent.parent_hamiltonian as parent"
   ]
  },
  {
   "cell_type": "code",
   "execution_count": null,
   "id": "a1bd2a4b",
   "metadata": {},
   "outputs": [],
   "source": [
    "# myQLM qpus\n",
    "from qat.qpus import PyLinalg, CLinalg\n",
    "qpu_c = CLinalg()\n",
    "qpu_p = PyLinalg()"
   ]
  },
  {
   "cell_type": "code",
   "execution_count": null,
   "id": "d0c1fdfb",
   "metadata": {},
   "outputs": [],
   "source": [
    "# QLM qpus\n",
    "from qlmaas.qpus import LinAlg, MPS\n",
    "qpu_qaass = LinAlg()\n",
    "qpu_mps = MPS(lnnize =True)"
   ]
  },
  {
   "cell_type": "code",
   "execution_count": null,
   "id": "e8b5b5c5",
   "metadata": {},
   "outputs": [],
   "source": [
    "# For QLM observables\n",
    "from qat.core import Observable, Term"
   ]
  },
  {
   "cell_type": "markdown",
   "id": "fe69a4ef",
   "metadata": {},
   "source": [
    "## 1. Japanese Ansatz Generalization\n",
    "\n",
    "Here we take an ansatz generalization of the japanese used one. The structure is the same but for each qubit the parameters are different. This will break the simetry of the ansatz and the local reduced density matrix for eac qubit will be different!!\n",
    "\n",
    "This ansatz generalization is in the *ansatz_qlm_general* function into the **parent_hamiltonian/ansatz/ansatz_qlm** package"
   ]
  },
  {
   "cell_type": "code",
   "execution_count": null,
   "id": "880e21d7",
   "metadata": {},
   "outputs": [],
   "source": [
    "nqubit = 9"
   ]
  },
  {
   "cell_type": "code",
   "execution_count": null,
   "id": "0e53c7f6",
   "metadata": {},
   "outputs": [],
   "source": [
    "# Creating qlm circuit\n",
    "qprog = ansatz_qlm.ansatz_qlm_general(nqubits=nqubit, depth=3)\n",
    "circuit = qprog.to_circ()"
   ]
  },
  {
   "cell_type": "code",
   "execution_count": null,
   "id": "4e59f749",
   "metadata": {},
   "outputs": [],
   "source": [
    "%qatdisplay circuit --svg"
   ]
  },
  {
   "cell_type": "code",
   "execution_count": null,
   "id": "caf46a69",
   "metadata": {},
   "outputs": [],
   "source": [
    "# Fixing angles\n",
    "angle_list = np.random.rand(len(circuit.get_variables()))*2*np.pi \n",
    "circuit = circuit(\n",
    "    ** {v: angle_list[i] for i,v in enumerate(circuit.get_variables())})"
   ]
  },
  {
   "cell_type": "code",
   "execution_count": null,
   "id": "20580b08",
   "metadata": {},
   "outputs": [],
   "source": [
    "%qatdisplay circuit --svg"
   ]
  },
  {
   "cell_type": "markdown",
   "id": "1f37a177",
   "metadata": {},
   "source": [
    "Given a QLM circuit from an ansatz the function *solving_ansatz* from **parent_hamiltonian/ansatz/ansatz_qlm** allows to solve the QLM circuit and provides the result as a nqubit-tensor, that will be in the correct form for the *parent_hamiltonian* function from **parent_hamiltonian/parent/parent_hamiltonian**.\n",
    "\n",
    "The *solving_ansatz* function needs the QLM qpu that we want to use for solving the ansatz."
   ]
  },
  {
   "cell_type": "code",
   "execution_count": null,
   "id": "8c6a7f50",
   "metadata": {},
   "outputs": [],
   "source": [
    "# myqlm c lineal algebra\n",
    "mps_state_c = ansatz_qlm.solving_ansatz(circuit, nqubit, qpu_c)"
   ]
  },
  {
   "cell_type": "code",
   "execution_count": null,
   "id": "acda35c3",
   "metadata": {},
   "outputs": [],
   "source": [
    "mps_state_p= ansatz_qlm.solving_ansatz(circuit, nqubit, qpu_p)\n",
    "np.isclose(mps_state_c, mps_state_p).all()"
   ]
  },
  {
   "cell_type": "code",
   "execution_count": null,
   "id": "1cc0b241",
   "metadata": {},
   "outputs": [],
   "source": [
    "mps_state_ass = ansatz_qlm.solving_ansatz(circuit, nqubit, qpu_qaass)\n",
    "np.isclose(mps_state_p, mps_state_ass).all()"
   ]
  },
  {
   "cell_type": "code",
   "execution_count": null,
   "id": "62ab5c58",
   "metadata": {},
   "outputs": [],
   "source": [
    "mps_state_mps = ansatz_qlm.solving_ansatz(circuit, nqubit, qpu_mps)\n",
    "np.isclose(mps_state_c, mps_state_mps).all()"
   ]
  },
  {
   "cell_type": "code",
   "execution_count": null,
   "id": "0a5f47f1",
   "metadata": {},
   "outputs": [],
   "source": [
    "# Computing Parent Hamiltonian terms\n",
    "h_coefficients, h_paulistrings, h_qubits = parent.parent_hamiltonian(mps_state_c)"
   ]
  },
  {
   "cell_type": "code",
   "execution_count": null,
   "id": "5dddd213",
   "metadata": {},
   "outputs": [],
   "source": [
    "# Solving with Observable\n",
    "ph_terms = [Term(coef, ps, qb) \\\n",
    "    for coef, ps, qb in zip(h_coefficients, h_paulistrings, h_qubits)\n",
    "]\n",
    "ph_observable = Observable(nqubit, pauli_terms=ph_terms)"
   ]
  },
  {
   "cell_type": "code",
   "execution_count": null,
   "id": "9adc0110",
   "metadata": {},
   "outputs": [],
   "source": [
    "job_observable = circuit.to_job('OBS', observable=ph_observable)\n",
    "ph_results = qpu_c.submit(job_observable)"
   ]
  },
  {
   "cell_type": "code",
   "execution_count": null,
   "id": "5c2fa3f2",
   "metadata": {},
   "outputs": [],
   "source": [
    "ph_results.value"
   ]
  },
  {
   "cell_type": "markdown",
   "id": "65a9a1ea",
   "metadata": {},
   "source": [
    "We can use the function *get_local_reduced_matrices* from the package **parent_hamiltonian/parent/parent_hamiltonian** for computing the local reduced density matrices for eac qubit!"
   ]
  },
  {
   "cell_type": "code",
   "execution_count": null,
   "id": "606817bd",
   "metadata": {},
   "outputs": [],
   "source": [
    "local_qubits, local_rho = parent.get_local_reduced_matrices(mps_state_c)"
   ]
  },
  {
   "cell_type": "markdown",
   "id": "279a0d8a",
   "metadata": {},
   "source": [
    "Following cell compare each local reduced density matrix. As can be seen all are different. For the original japanes ansatz the computed local reduced density matrix were equal for each qubit of the ansatz (see **ParentHamiltonian_03_CompleteVersion**). "
   ]
  },
  {
   "cell_type": "code",
   "execution_count": null,
   "id": "48c00e9a",
   "metadata": {},
   "outputs": [],
   "source": [
    "[np.isclose(\n",
    "    local_rho[i], local_rho[i+1]).all() for i in range(len(local_rho)-1)]"
   ]
  },
  {
   "cell_type": "markdown",
   "id": "bbbe67ea",
   "metadata": {},
   "source": [
    "## 2. Other Ansatzes"
   ]
  },
  {
   "cell_type": "code",
   "execution_count": null,
   "id": "e47b36bd",
   "metadata": {},
   "outputs": [],
   "source": [
    "from qat.fermion.circuits import make_ldca_circ, make_general_hwe_circ"
   ]
  },
  {
   "cell_type": "code",
   "execution_count": null,
   "id": "bbe63ddd",
   "metadata": {},
   "outputs": [],
   "source": [
    "nqubit = 6\n",
    "depth = 2\n",
    "lda = make_ldca_circ(nqubit, depth)"
   ]
  },
  {
   "cell_type": "code",
   "execution_count": null,
   "id": "fb1e4c93",
   "metadata": {
    "scrolled": false
   },
   "outputs": [],
   "source": [
    "%qatdisplay lda --svg"
   ]
  },
  {
   "cell_type": "code",
   "execution_count": null,
   "id": "f87469a0",
   "metadata": {},
   "outputs": [],
   "source": [
    "angles = np.random.rand(len(lda.get_variables()))*np.pi"
   ]
  },
  {
   "cell_type": "code",
   "execution_count": null,
   "id": "abde53f7",
   "metadata": {},
   "outputs": [],
   "source": [
    "lda = lda(\n",
    "    ** {v: angles[i] for i,v in enumerate(lda.get_variables())})"
   ]
  },
  {
   "cell_type": "code",
   "execution_count": null,
   "id": "5983eb92",
   "metadata": {
    "scrolled": false
   },
   "outputs": [],
   "source": [
    "%qatdisplay lda --svg"
   ]
  },
  {
   "cell_type": "code",
   "execution_count": null,
   "id": "7de47e2e",
   "metadata": {},
   "outputs": [],
   "source": [
    "lda_mps = ansatz_qlm.solving_ansatz(lda, nqubit, qpu_c)"
   ]
  },
  {
   "cell_type": "code",
   "execution_count": null,
   "id": "144801dd",
   "metadata": {
    "scrolled": true
   },
   "outputs": [],
   "source": [
    "lda_coeffs, lda_ps, lda_qbuit = parent.parent_hamiltonian(lda_mps)"
   ]
  },
  {
   "cell_type": "code",
   "execution_count": null,
   "id": "5d61c3fa",
   "metadata": {},
   "outputs": [],
   "source": [
    "lda_h_terms = [Term(coef, ps, qb) for coef, ps, qb in zip(lda_coeffs, lda_ps, lda_qbuit)]"
   ]
  },
  {
   "cell_type": "code",
   "execution_count": null,
   "id": "e8aa1c32",
   "metadata": {},
   "outputs": [],
   "source": [
    "lda_observable = Observable(nqbits=nqubit, pauli_terms=lda_h_terms)"
   ]
  },
  {
   "cell_type": "code",
   "execution_count": null,
   "id": "dfd49709",
   "metadata": {},
   "outputs": [],
   "source": [
    "job_lda = lda.to_job('OBS', observable=lda_observable)"
   ]
  },
  {
   "cell_type": "code",
   "execution_count": null,
   "id": "a998fd32",
   "metadata": {},
   "outputs": [],
   "source": [
    "results = qpu_c.submit(job_lda)"
   ]
  },
  {
   "cell_type": "code",
   "execution_count": null,
   "id": "82c06e7b",
   "metadata": {},
   "outputs": [],
   "source": [
    "results.value"
   ]
  },
  {
   "cell_type": "code",
   "execution_count": null,
   "id": "00091d6b",
   "metadata": {},
   "outputs": [],
   "source": [
    "gen_ans = make_general_hwe_circ(nqubit, depth)"
   ]
  },
  {
   "cell_type": "code",
   "execution_count": null,
   "id": "2a4c1c36",
   "metadata": {},
   "outputs": [],
   "source": [
    "%qatdisplay gen_ans --svg"
   ]
  },
  {
   "cell_type": "code",
   "execution_count": null,
   "id": "523191a2",
   "metadata": {},
   "outputs": [],
   "source": [
    "gen_ans = gen_ans(\n",
    "    ** {v: angles[i] for i,v in enumerate(gen_ans.get_variables())})"
   ]
  },
  {
   "cell_type": "code",
   "execution_count": null,
   "id": "1f13a2e1",
   "metadata": {},
   "outputs": [],
   "source": [
    "gen_ans_mps = ansatz_qlm.solving_ansatz(gen_ans, nqubit, qpu_c)"
   ]
  },
  {
   "cell_type": "code",
   "execution_count": null,
   "id": "fe5b99bc",
   "metadata": {
    "scrolled": true
   },
   "outputs": [],
   "source": [
    "gen_ans_mps_coeffs, gen_ans_mps_ps, gen_ans_mps_qbuit = parent.parent_hamiltonian(gen_ans_mps)"
   ]
  },
  {
   "cell_type": "code",
   "execution_count": null,
   "id": "8ef2e264",
   "metadata": {},
   "outputs": [],
   "source": [
    "gen_ans_h_terms = [Term(coef, ps, qb) for coef, ps, qb in zip(gen_ans_mps_coeffs, gen_ans_mps_ps, gen_ans_mps_qbuit)]"
   ]
  },
  {
   "cell_type": "code",
   "execution_count": null,
   "id": "88d57084",
   "metadata": {},
   "outputs": [],
   "source": [
    "gen_ans_observable = Observable(nqbits=nqubit, pauli_terms=gen_ans_h_terms)"
   ]
  },
  {
   "cell_type": "code",
   "execution_count": null,
   "id": "ca0df51b",
   "metadata": {},
   "outputs": [],
   "source": [
    "job_gen_ans = gen_ans.to_job('OBS', observable=gen_ans_observable)"
   ]
  },
  {
   "cell_type": "code",
   "execution_count": null,
   "id": "c1816a8b",
   "metadata": {},
   "outputs": [],
   "source": [
    "results_gen = qpu_c.submit(job_gen_ans)"
   ]
  },
  {
   "cell_type": "code",
   "execution_count": null,
   "id": "9b3f7ea9",
   "metadata": {},
   "outputs": [],
   "source": [
    "results_gen.value"
   ]
  },
  {
   "cell_type": "code",
   "execution_count": null,
   "id": "7975a24e",
   "metadata": {},
   "outputs": [],
   "source": []
  }
 ],
 "metadata": {
  "kernelspec": {
   "display_name": "Python 3 (ipykernel)",
   "language": "python",
   "name": "python3"
  },
  "language_info": {
   "codemirror_mode": {
    "name": "ipython",
    "version": 3
   },
   "file_extension": ".py",
   "mimetype": "text/x-python",
   "name": "python",
   "nbconvert_exporter": "python",
   "pygments_lexer": "ipython3",
   "version": "3.9.9"
  }
 },
 "nbformat": 4,
 "nbformat_minor": 5
}
