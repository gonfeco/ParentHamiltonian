{
 "cells": [
  {
   "cell_type": "markdown",
   "id": "83e5ff19",
   "metadata": {},
   "source": [
    "## Bra and Ket Definitions\n",
    "\n",
    "$$\\newcommand{\\braket}[2]{\\left\\langle{#1}\\middle|{#2}\\right\\rangle}$$\n",
    "$$\\newcommand{\\ket}[1]{\\left|{#1}\\right\\rangle}$$\n",
    "$$\\newcommand{\\bra}[1]{\\left\\langle{#1}\\right|}$$"
   ]
  },
  {
   "cell_type": "markdown",
   "id": "848c97cb",
   "metadata": {},
   "source": [
    "# Naive Approach for Parent Hamiltonian\n",
    "\n",
    "The main idea of the parent Hamiltonian is the following:\n",
    "\n",
    "Given an ansatz represented by its state: $\\ket{\\Psi (\\vec{\\theta})}$ the parent Hamiltonian problem looks for a Hamiltonian $\\mathcal{H}$ for the proposed ansatz which fundamental state and correspondent energy is 0. This is:\n",
    "\n",
    "$$\\mathcal{H}\\ket{\\Psi (\\vec{\\theta})} = 0 \\tag{1}$$\n",
    "\n",
    "The naive approach to this problem is the following:\n",
    "\n",
    "1. Compute the density matrix of the ansatz:\n",
    "\n",
    "$$\\rho(\\vec{\\theta}) = \\ket{\\Psi (\\vec{\\theta})}\\bra{\\Psi (\\vec{\\theta})}$$\n",
    "\n",
    "2. Compute the **Kernel** or **null space** of the density matrix. This:\n",
    "\n",
    "$$\\text{Kernel}(\\rho) = \\{ \\ket{v^i} / \\rho \\ket{v^i} = 0, i=0, 1, \\cdots m \\, \\text{with} \\; m \\leq dim(\\rho)\\}$$\n",
    "\n",
    "3. Additionally the vectors of the kernel will be chosen that conforms a basis of this null space. \n",
    "\n",
    "$$\\braket{v^i}{v^j}= \\delta_{ij}$$\n",
    "\n",
    "4. The vectors belonging to the **Kernel** of $\\rho$ will satisfy following condition:\n",
    "\n",
    "$$\\rho \\ket{v^i} = 0 = \\ket{\\Psi}\\braket{\\Psi}{v^i} = 0 \\rightarrow \\braket{\\Psi}{v^i} = 0  \\tag{2}$$\n",
    "\n",
    "5. Now using the vector of the basis of the **Kernel** of $\\rho$ we can compute the correspondent projectors $h^i$:\n",
    "\n",
    "$$h^i = \\ket{v^i}\\bra{v^i}$$\n",
    "\n",
    "6. By the condition (2) we can write:\n",
    "\n",
    "$$h^i \\ket{\\Psi} = \\ket{v^i} \\braket{v^i}{\\Psi} = 0 \\tag{3}$$\n",
    "\n",
    "7. We can join all the projectors terms for computing or desired parent hamiltonian:\n",
    "\n",
    "$$\\mathcal{H} = \\sum_{i=0}^{m} h^i$$\n",
    "\n",
    "By construction this Hamiltonian verify the parent Hamiltonian property (1)"
   ]
  },
  {
   "cell_type": "code",
   "execution_count": null,
   "id": "711fb6cd",
   "metadata": {},
   "outputs": [],
   "source": [
    "#Python libraries\n",
    "import numpy as np\n",
    "import pandas as pd\n",
    "import matplotlib.pyplot as plt\n",
    "import re\n",
    "from scipy import linalg\n",
    "import time"
   ]
  },
  {
   "cell_type": "code",
   "execution_count": null,
   "id": "159a7045",
   "metadata": {},
   "outputs": [],
   "source": [
    "%matplotlib inline"
   ]
  },
  {
   "cell_type": "code",
   "execution_count": null,
   "id": "e5a90df4",
   "metadata": {},
   "outputs": [],
   "source": [
    "# Original Parent Hamiltonian Library\n",
    "import parent_hamiltonian.japanese.parent_hamiltonian as jap_parent"
   ]
  },
  {
   "cell_type": "code",
   "execution_count": null,
   "id": "d9daa70b",
   "metadata": {},
   "outputs": [],
   "source": [
    "# QLM ansatz\n",
    "import parent_hamiltonian.ansatz.ansatz_qlm as ansatz_qlm\n",
    "#QLM Libraries\n",
    "from qat.core import Observable, Term\n",
    "#QLM QPUs\n",
    "from qat.qpus import PyLinalg, CLinalg\n",
    "qpu = PyLinalg()"
   ]
  },
  {
   "cell_type": "code",
   "execution_count": null,
   "id": "c6474467",
   "metadata": {},
   "outputs": [],
   "source": [
    "np.random.seed(seed = 1)\n",
    "depth = 3\n",
    "angle_list = np.random.rand(depth*2)*2*np.pi\n",
    "print(\"Answer_angle_list: \", angle_list)"
   ]
  },
  {
   "cell_type": "markdown",
   "id": "3e7a746a",
   "metadata": {},
   "source": [
    "## 1. Creating MPS of Ansatz\n",
    "\n",
    "MPS version of the state of the ansatz"
   ]
  },
  {
   "cell_type": "code",
   "execution_count": null,
   "id": "da8b1604",
   "metadata": {},
   "outputs": [],
   "source": [
    "nqubit = 3"
   ]
  },
  {
   "cell_type": "code",
   "execution_count": null,
   "id": "3b6d6c81",
   "metadata": {
    "scrolled": true
   },
   "outputs": [],
   "source": [
    "ansatz_mps, index_  = jap_parent.nqubit_mps(nqubit, angle_list)"
   ]
  },
  {
   "cell_type": "code",
   "execution_count": null,
   "id": "573a7034",
   "metadata": {},
   "outputs": [],
   "source": [
    "ansatz_mps.shape"
   ]
  },
  {
   "cell_type": "markdown",
   "id": "5572d9a1",
   "metadata": {},
   "source": [
    "## 2. QLM program\n",
    "\n",
    "QLM implementation of the original ansatz"
   ]
  },
  {
   "cell_type": "code",
   "execution_count": null,
   "id": "5bd6d275",
   "metadata": {},
   "outputs": [],
   "source": [
    "qprog = ansatz_qlm.ansatz_qlm(nqubits=nqubit, depth=depth)\n",
    "circuit = qprog.to_circ()"
   ]
  },
  {
   "cell_type": "code",
   "execution_count": null,
   "id": "0262a52c",
   "metadata": {},
   "outputs": [],
   "source": [
    "%qatdisplay circuit --svg"
   ]
  },
  {
   "cell_type": "markdown",
   "id": "842ab6fd",
   "metadata": {},
   "source": [
    "## 3. Computing Parent Hamiltonian Terms\n",
    "\n",
    "We have developed a package for computing  the naive approach to the parent Hamiltonian problem. Here we compare the performance of the naive approach vs the original paper (Japanese Package from now)"
   ]
  },
  {
   "cell_type": "code",
   "execution_count": null,
   "id": "efc873eb",
   "metadata": {},
   "outputs": [],
   "source": [
    "# Thios is a threshold for evaluate the coefficients of the different terms\n",
    "# of the hamiltoninans\n",
    "threshold = 1.0e-4"
   ]
  },
  {
   "cell_type": "markdown",
   "id": "d02523b0",
   "metadata": {},
   "source": [
    "### 3.1 Parent Hamiltonian: Japanese Package\n",
    "\n",
    "The *parent_hamiltonian* function from **parent_hamiltonian/japanese/parent_hamiltonian** package computes the parent hamiltonian for the ansatz original parent hamiltonian paper (using the original code stored in the GitHub of the paper)"
   ]
  },
  {
   "cell_type": "code",
   "execution_count": null,
   "id": "aad205e3",
   "metadata": {
    "scrolled": true
   },
   "outputs": [],
   "source": [
    "%%time\n",
    "pauliproducts_factor_list, rho_jap, kernel_jap = jap_parent.parent_hamiltonian(\n",
    "    ansatz_mps, index_, nqubit)"
   ]
  },
  {
   "cell_type": "code",
   "execution_count": null,
   "id": "b277843a",
   "metadata": {
    "scrolled": true
   },
   "outputs": [],
   "source": [
    "pauliproducts_factor_list"
   ]
  },
  {
   "cell_type": "code",
   "execution_count": null,
   "id": "a9c07d33",
   "metadata": {},
   "outputs": [],
   "source": [
    "np.linalg.matrix_rank(rho_jap)"
   ]
  },
  {
   "cell_type": "code",
   "execution_count": null,
   "id": "219e866b",
   "metadata": {},
   "outputs": [],
   "source": [
    "for i in range(1,len(pauliproducts_factor_list), 3):\n",
    "    print(pauliproducts_factor_list[i])"
   ]
  },
  {
   "cell_type": "markdown",
   "id": "16ffb846",
   "metadata": {},
   "source": [
    "#### Observable from Japanese Hamiltonian\n",
    "\n",
    "Now we can transform the parent hamiltonian terms for proper format for QLM"
   ]
  },
  {
   "cell_type": "code",
   "execution_count": null,
   "id": "6f1ecc63",
   "metadata": {},
   "outputs": [],
   "source": [
    "#We need to change Hamiltonian between ParentHamiltonian and QLM Observables\n",
    "list_of_terms = []\n",
    "coefs_jap = []\n",
    "for pauli in pauliproducts_factor_list:\n",
    "    step = pauli[1]\n",
    "    #first we pick the letters\n",
    "    a=re.findall(r'[A-Z]', step)\n",
    "    #second we pick the number\n",
    "    b = re.findall(r'\\d+', step)\n",
    "    #We create the QLM Term object: Term(coefficient, gates, qbits where gates are applied)\n",
    "    list_of_terms.append(\n",
    "        Term(pauli[0], ''.join(a), [int(i) for i in b])\n",
    "    )\n",
    "    coefs_jap.append(pauli[0])\n",
    "#With the list of QLM Terms we create the QLM Observable object\n",
    "obs = Observable(nqubit, pauli_terms=list_of_terms)\n",
    "coefs_jap = np.array(coefs_jap)"
   ]
  },
  {
   "cell_type": "code",
   "execution_count": null,
   "id": "28764294",
   "metadata": {},
   "outputs": [],
   "source": [
    "plt.hist(coefs_jap)"
   ]
  },
  {
   "cell_type": "code",
   "execution_count": null,
   "id": "db7e462c",
   "metadata": {},
   "outputs": [],
   "source": [
    "# Here we compute the percentage of coefficients lower than threshold\n",
    "jap_thresh_coefs = sum(np.abs(coefs_jap) < threshold)\n",
    "jap_number_coefs = len(coefs_jap)\n",
    "100 * jap_thresh_coefs / jap_number_coefs"
   ]
  },
  {
   "cell_type": "markdown",
   "id": "8cb6a3e1",
   "metadata": {},
   "source": [
    "#### Evaluation of Japanese Hamiltonian in QLM"
   ]
  },
  {
   "cell_type": "code",
   "execution_count": null,
   "id": "ddca1707",
   "metadata": {},
   "outputs": [],
   "source": [
    "#QLM job from circuit. In Observable Mode!!\n",
    "job = circuit.to_job('OBS', observable=obs)\n",
    "#We are going to fix the parameters of the PQC to the ideal ones!!\n",
    "job_eval = job(** {v: angle_list[i] for i,v in enumerate(job.get_variables())})\n",
    "#We submit the job to the QPU\n",
    "r_eval = qpu.submit(job_eval)\n",
    "# This is the Energy. This should be near zero\n",
    "r_eval.value"
   ]
  },
  {
   "cell_type": "markdown",
   "id": "a2eb9cd8",
   "metadata": {},
   "source": [
    "### 3.2 Parent Hamiltonian naive approach\n",
    "\n",
    "The naive approach presented at the begining of the notebook is implemented in the package *parent_hamiltonian* of the **parent_hamiltonian/naive** module of the library. \n",
    "\n",
    "The *parent_hamiltonian* function from **parent_hamiltonian/naive/parent_hamiltonian** package allow to build the parent hamiltonian"
   ]
  },
  {
   "cell_type": "code",
   "execution_count": null,
   "id": "72304f9c",
   "metadata": {},
   "outputs": [],
   "source": [
    "from parent_hamiltonian.naive import parent_hamiltonian as naive"
   ]
  },
  {
   "cell_type": "code",
   "execution_count": null,
   "id": "937096c5",
   "metadata": {
    "scrolled": true
   },
   "outputs": [],
   "source": [
    "%%time\n",
    "coefs, pauli_s, rho_naive, kernel_naive, projector_naive = naive.parent_hamiltonian(\n",
    "    ansatz_mps)"
   ]
  },
  {
   "cell_type": "markdown",
   "id": "572ee420",
   "metadata": {},
   "source": [
    "$\\text{ansatz_mps} = \\ket{\\Psi(\\vec{\\theta})}$"
   ]
  },
  {
   "cell_type": "code",
   "execution_count": null,
   "id": "d94c3119",
   "metadata": {},
   "outputs": [],
   "source": [
    "coefs_naive = np.array(coefs)\n",
    "naive_thresh_coefs = sum(np.abs(coefs_naive) < threshold)\n",
    "naive_number_coefs = len(coefs_naive)"
   ]
  },
  {
   "cell_type": "code",
   "execution_count": null,
   "id": "214ddf53",
   "metadata": {},
   "outputs": [],
   "source": [
    "coefs_naive"
   ]
  },
  {
   "cell_type": "code",
   "execution_count": null,
   "id": "5cd2aa4c",
   "metadata": {},
   "outputs": [],
   "source": [
    "plt.hist(coefs_naive, bins = 100)"
   ]
  },
  {
   "cell_type": "code",
   "execution_count": null,
   "id": "9896498b",
   "metadata": {},
   "outputs": [],
   "source": [
    "naive_thresh_coefs / naive_number_coefs"
   ]
  },
  {
   "cell_type": "markdown",
   "id": "d3041681",
   "metadata": {},
   "source": [
    "#### Observable from Hamiltonian of Complete Density Matrix"
   ]
  },
  {
   "cell_type": "code",
   "execution_count": null,
   "id": "eea93898",
   "metadata": {},
   "outputs": [],
   "source": [
    "Terms = [Term(coef, pauli, [i for i in range(len(pauli))]) \\\n",
    "         for coef, pauli in zip(coefs, pauli_s)]"
   ]
  },
  {
   "cell_type": "markdown",
   "id": "4f052b52",
   "metadata": {},
   "source": [
    "#### Evaluation from Complete Density Matrix Hamiltoninan in QLM"
   ]
  },
  {
   "cell_type": "code",
   "execution_count": null,
   "id": "a91f5e55",
   "metadata": {},
   "outputs": [],
   "source": [
    "obs_rho = Observable(nqubit, pauli_terms = Terms)\n",
    "#QLM job from circuit. In Observable Mode!!\n",
    "job_rho = circuit.to_job('OBS', observable=obs_rho)\n",
    "#We are going to fix the parameters of the PQC to the ideal ones!!\n",
    "job_rho_2 = job_rho(** {v: angle_list[i] for i,v in enumerate(job_rho.get_variables())})\n",
    "#We submit the job to the QPU\n",
    "r_rho = qpu.submit(job_rho_2)\n",
    "# This is the Energy. This should be near zero\n",
    "r_rho.value"
   ]
  },
  {
   "cell_type": "code",
   "execution_count": null,
   "id": "889a5351",
   "metadata": {},
   "outputs": [],
   "source": [
    "%qatdisplay circuit --svg"
   ]
  },
  {
   "cell_type": "markdown",
   "id": "f5383d16",
   "metadata": {},
   "source": [
    "## 4. Japanese Benchmark\n",
    "\n",
    "Now we are going to execute a benchmark for evaluate performance for an increasing number of qubits using the original japanese code"
   ]
  },
  {
   "cell_type": "code",
   "execution_count": null,
   "id": "ecb584e4",
   "metadata": {},
   "outputs": [],
   "source": [
    "jap_results = []\n",
    "jap_coefs = {}\n",
    "for nqubit in list(range(3, 12)):\n",
    "    ansatz_mps, index_  = jap_parent.nqubit_mps(nqubit, angle_list)\n",
    "    tick = time.time()\n",
    "    pauliproducts_factor_list, _, _= jap_parent.parent_hamiltonian(ansatz_mps, index_, nqubit)\n",
    "    tock = time.time()\n",
    "    coefs_jap = np.array([pauli[0] for pauli in pauliproducts_factor_list])\n",
    "    elapsed = tock - tick\n",
    "    jap_thresh_coefs = sum(np.abs(coefs_jap) < threshold)\n",
    "    jap_number_coefs = len(coefs_jap)\n",
    "    percentaje = 100 * jap_thresh_coefs/jap_number_coefs\n",
    "    jap_results.append(\n",
    "        [nqubit, elapsed, jap_thresh_coefs, jap_number_coefs, percentaje]\n",
    "    )\n",
    "    jap_coefs.update({nqubit:coefs_jap})"
   ]
  },
  {
   "cell_type": "markdown",
   "id": "ddfd6c70",
   "metadata": {},
   "source": [
    "## 5. Naive Benchmark\n",
    "\n",
    "Now we are going to execute same benchmark for the naive approach"
   ]
  },
  {
   "cell_type": "code",
   "execution_count": null,
   "id": "5dec3874",
   "metadata": {},
   "outputs": [],
   "source": [
    "naive_results = []\n",
    "naive_coefs = {}\n",
    "for nqubit in list(range(3, 10)):\n",
    "    print('nqubit: {}'.format(nqubit))\n",
    "    ansatz_mps, index_ = jap_parent.nqubit_mps(nqubit, angle_list)\n",
    "    tick = time.time()\n",
    "    coefs, pauli_s, _, _, _ = naive.parent_hamiltonian(ansatz_mps)\n",
    "    tock = time.time()\n",
    "    elapsed = tock - tick\n",
    "    coefs_naive = np.array(coefs)\n",
    "    naive_thresh_coefs = sum(np.abs(coefs_naive) < threshold)\n",
    "    naive_number_coefs = len(coefs_naive)\n",
    "    percentaje = 100 * naive_thresh_coefs/naive_number_coefs\n",
    "    naive_results.append(\n",
    "        [nqubit, elapsed, naive_thresh_coefs, naive_number_coefs, percentaje]\n",
    "    )\n",
    "    naive_coefs.update({nqubit:coefs_naive})"
   ]
  },
  {
   "cell_type": "code",
   "execution_count": null,
   "id": "82fc46cc",
   "metadata": {
    "scrolled": true
   },
   "outputs": [],
   "source": [
    "jap_df = pd.DataFrame(\n",
    "    jap_results, \n",
    "    columns=['nqubit', 'run_time', 'threshold_coefs','number_coefs', 'percent_thresh']\n",
    ")\n",
    "\n",
    "naive_df = pd.DataFrame(\n",
    "    naive_results, \n",
    "    columns=['nqubit', 'run_time', 'threshold_coefs','number_coefs', 'percent_thresh']\n",
    ")"
   ]
  },
  {
   "cell_type": "code",
   "execution_count": null,
   "id": "d349cd34",
   "metadata": {},
   "outputs": [],
   "source": [
    "naive_df"
   ]
  },
  {
   "cell_type": "code",
   "execution_count": null,
   "id": "8972904e",
   "metadata": {},
   "outputs": [],
   "source": [
    "4 ** 9"
   ]
  },
  {
   "cell_type": "code",
   "execution_count": null,
   "id": "503ec55e",
   "metadata": {
    "scrolled": false
   },
   "outputs": [],
   "source": [
    "plt.plot(jap_df['nqubit'], jap_df['run_time'], 'o-')\n",
    "plt.plot(naive_df['nqubit'], naive_df['run_time'], 'o-')\n",
    "plt.yscale('log')\n",
    "plt.xlabel('Number of Qubits')\n",
    "plt.ylabel('Runtime (s)')\n",
    "plt.legend(['Japanese', 'Naive'])"
   ]
  },
  {
   "cell_type": "code",
   "execution_count": null,
   "id": "5b6701a6",
   "metadata": {},
   "outputs": [],
   "source": [
    "plt.plot(jap_df['nqubit'], jap_df['percent_thresh'], 'o-')\n",
    "plt.plot(naive_df['nqubit'], naive_df['percent_thresh'], 'o-')\n",
    "plt.xlabel('Number of Qubits')\n",
    "plt.ylabel('Percent Threshold')\n",
    "plt.legend(['Japanese', 'Naive'])\n",
    "plt.title('Percent of coeficients lower than {}'.format(threshold))"
   ]
  },
  {
   "cell_type": "code",
   "execution_count": null,
   "id": "6507209e",
   "metadata": {},
   "outputs": [],
   "source": [
    "more_thresh_jap = []\n",
    "for n_, coef_ in jap_coefs.items():\n",
    "    more_thresh_jap.append(sum((np.abs(coef_) < 1e-6)))\n",
    "more_thresh_jap = np.array(more_thresh_jap)"
   ]
  },
  {
   "cell_type": "code",
   "execution_count": null,
   "id": "7351c4ba",
   "metadata": {},
   "outputs": [],
   "source": [
    "more_thresh_naive = []\n",
    "for n_, coef_ in naive_coefs.items():\n",
    "    more_thresh_naive.append(sum((np.abs(coef_) < 1e-6)))\n",
    "more_thresh_naive = np.array(more_thresh_naive)"
   ]
  },
  {
   "cell_type": "code",
   "execution_count": null,
   "id": "b37f3ed4",
   "metadata": {},
   "outputs": [],
   "source": [
    "more_thresh_naive"
   ]
  },
  {
   "cell_type": "code",
   "execution_count": null,
   "id": "a7c64cf4",
   "metadata": {},
   "outputs": [],
   "source": [
    "plt.plot(jap_df['nqubit'], more_thresh_jap / jap_df['number_coefs'], 'o-')\n",
    "plt.plot(naive_df['nqubit'], more_thresh_naive / naive_df['number_coefs'] , 'o-')\n",
    "#plt.yscale('log')\n",
    "plt.xlabel('Number of Qubits')\n",
    "plt.ylabel('Percent Threshold')\n",
    "plt.legend(['Japanese', 'Naive'])\n",
    "plt.title('Percent of coeficients lower than {}'.format(1e-6))"
   ]
  },
  {
   "attachments": {
    "image-2.png": {
     "image/png": "[encoded data removed]"
    }
   },
   "cell_type": "markdown",
   "id": "8fbfe076",
   "metadata": {},
   "source": [
    "### Performance comparison of methods\n",
    "\n",
    "Here we compare the runtime for computation of Hamiltonian terms for both methods.\n",
    "\n",
    "![image-2.png](attachment:image-2.png)\n",
    "\n",
    "Here we have used parallel computation for getting the hamiltoninan terms for the naive approach meanwhile the computation in the japanese package only one core was used. **So even taking advantage of multicore proccessing the naive method has a very bad performance** \n",
    "\n",
    "This is because for the final projector matrix it is needed to compute its pauli decomposition. In the naive approach this matrix will be (nqubit, nqubit) shape matrix. So we will need a basis of kronecker pauli products of $4^{nqubit}$ elements."
   ]
  },
  {
   "attachments": {
    "image-2.png": {
     "image/png": "[encoded data removed]"
    }
   },
   "cell_type": "markdown",
   "id": "0e798e2e",
   "metadata": {},
   "source": [
    "#### Percentage of Coeficients lower than Threshold\n",
    "\n",
    "Here we plot the number of coefficients of Hamiltoninan terms with coefficients lower than $10^{-4}$.\n",
    "\n",
    "![image-2.png](attachment:image-2.png)"
   ]
  },
  {
   "attachments": {
    "image-2.png": {
     "image/png": "[encoded data removed]"
    }
   },
   "cell_type": "markdown",
   "id": "e417a32e",
   "metadata": {},
   "source": [
    "\n",
    "Here we plot the number of coefficients of Hamiltoninan terms with coefficients lower than $10^{-6}$. \n",
    "\n",
    "![image-2.png](attachment:image-2.png)"
   ]
  },
  {
   "cell_type": "markdown",
   "id": "56af0432",
   "metadata": {},
   "source": [
    "So in general use this naive approach will have a very bad performance. The idea of the original parent hamiltonian is to create **local parent hamiltonians** so instead of having a complete Haimltonian that affects to all the qbuits of the ansatz they will have several lower dimension hamiltoninans that only will affect to groups of qubits of the ansatz. This idea allows to increase the performance of the parent hamiltonian computations."
   ]
  },
  {
   "cell_type": "code",
   "execution_count": null,
   "id": "32810865",
   "metadata": {},
   "outputs": [],
   "source": []
  }
 ],
 "metadata": {
  "kernelspec": {
   "display_name": "Python 3 (ipykernel)",
   "language": "python",
   "name": "python3"
  },
  "language_info": {
   "codemirror_mode": {
    "name": "ipython",
    "version": 3
   },
   "file_extension": ".py",
   "mimetype": "text/x-python",
   "name": "python",
   "nbconvert_exporter": "python",
   "pygments_lexer": "ipython3",
   "version": "3.9.9"
  }
 },
 "nbformat": 4,
 "nbformat_minor": 5
}
